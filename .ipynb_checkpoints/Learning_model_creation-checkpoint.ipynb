{
 "cells": [
  {
   "cell_type": "markdown",
   "id": "38d448a2",
   "metadata": {},
   "source": [
    "# Project Start"
   ]
  },
  {
   "cell_type": "markdown",
   "id": "32f03c82",
   "metadata": {},
   "source": [
    "Note: Here is the step by step of building the model.\n",
    "\n",
    "\n",
    "DISCLAIMER: STILL WORK ON PROGRESS - VERY MESSY CODE. THANKS\n",
    "\n",
    "__Establishing Dataset__\n",
    "\n",
    "Dataset source\n",
    "\n",
    "    https://www.kaggle.com/datasets/uciml/sms-spam-collection-dataset\n",
    "\n",
    "    https://data.mendeley.com/datasets/f45bkkt8pr/1"
   ]
  },
  {
   "cell_type": "code",
   "execution_count": 1,
   "id": "3e607fe2",
   "metadata": {},
   "outputs": [
    {
     "name": "stderr",
     "output_type": "stream",
     "text": [
      "E:\\Anaconda\\lib\\site-packages\\scipy\\__init__.py:138: UserWarning: A NumPy version >=1.16.5 and <1.23.0 is required for this version of SciPy (detected version 1.23.1)\n",
      "  warnings.warn(f\"A NumPy version >={np_minversion} and <{np_maxversion} is required for this version of \"\n"
     ]
    }
   ],
   "source": [
    "#Requirements\n",
    "import re\n",
    "import pandas as pd\n",
    "import joblib\n",
    "import pickle\n",
    "from sklearn.model_selection import train_test_split\n",
    "from sklearn.feature_extraction.text import CountVectorizer\n",
    "from sklearn.naive_bayes import MultinomialNB\n",
    "from sklearn.svm import SVC\n",
    "from sklearn.tree import DecisionTreeClassifier\n",
    "from sklearn.feature_extraction.text import TfidfVectorizer\n",
    "from sklearn.metrics import accuracy_score, classification_report, confusion_matrix\n"
   ]
  },
  {
   "cell_type": "code",
   "execution_count": 2,
   "id": "3a1b6083",
   "metadata": {},
   "outputs": [],
   "source": [
    "#Dataset importing\n",
    "\n",
    "#Importing - the dir is my local files\n",
    "dataset1_dir = r\"C:\\Users\\user\\Desktop\\Current Task\\SIT746\\Project\\spam.csv\"\n",
    "dataset2_dir = r\"C:\\Users\\user\\Desktop\\Current Task\\SIT746\\Project\\Dataset_5971\\Dataset_5971.csv\"\n",
    "\n",
    "#Merging\n",
    "dataset1 = pd.read_csv(dataset1_dir)\n",
    "dataset1_selected = dataset1.iloc[:,:2]\n",
    "dataset1_selected.columns = ['Label','Text']\n",
    "\n",
    "dataset2 = pd.read_csv(dataset2_dir)\n",
    "dataset2_selected = dataset2.iloc[:,:2]\n",
    "dataset2_selected.columns = ['Label','Text']\n",
    "\n",
    "dataset = pd.concat([dataset1_selected,dataset2_selected])\n",
    "\n",
    "#replace the smishing value to be spam\n",
    "dataset[\"Label\"] = dataset[\"Label\"].replace(['Smishing','Spam','smishing'], 'spam')\n"
   ]
  },
  {
   "cell_type": "code",
   "execution_count": 3,
   "id": "7c993b8b",
   "metadata": {},
   "outputs": [],
   "source": [
    "#preprocessing text\n",
    "dataset[\"Text\"] = dataset[\"Text\"].str.lower() #make every word lower\n",
    "dataset['Text'] = dataset['Text'].str.replace('[^\\w\\s]', '', regex=True) #remove non alphanumeric char in the text"
   ]
  },
  {
   "cell_type": "code",
   "execution_count": 4,
   "id": "96a95662",
   "metadata": {},
   "outputs": [],
   "source": [
    "#Splitting\n",
    "X = dataset[\"Text\"]\n",
    "y = dataset[\"Label\"]\n",
    "\n",
    "#Split 80:20\n",
    "X_train, X_test, y_train, y_test = train_test_split(X, y, test_size=0.2, random_state=42)"
   ]
  },
  {
   "cell_type": "code",
   "execution_count": 5,
   "id": "c3087609",
   "metadata": {},
   "outputs": [],
   "source": [
    "#Define extractor\n",
    "vectorizers = {CountVectorizer(), \n",
    "             TfidfVectorizer()}\n",
    "\n",
    "#Define Machine Learning\n",
    "classifiers = {MultinomialNB(),\n",
    "              SVC(),\n",
    "              DecisionTreeClassifier()}"
   ]
  },
  {
   "cell_type": "code",
   "execution_count": 6,
   "id": "4a05e128",
   "metadata": {
    "scrolled": false
   },
   "outputs": [
    {
     "name": "stdout",
     "output_type": "stream",
     "text": [
      "EVALUATION OF  DecisionTreeClassifier() CountVectorizer() \n",
      "\n",
      "Accuracy: 0.9883066262451278\n",
      "Confusion Matrix:\n",
      "[[1928    9]\n",
      " [  18  354]]\n",
      "Classification Report:\n",
      "              precision    recall  f1-score   support\n",
      "\n",
      "         ham       0.99      1.00      0.99      1937\n",
      "        spam       0.98      0.95      0.96       372\n",
      "\n",
      "    accuracy                           0.99      2309\n",
      "   macro avg       0.98      0.97      0.98      2309\n",
      "weighted avg       0.99      0.99      0.99      2309\n",
      "\n",
      "\n",
      "################################################################\n",
      "\n",
      "EVALUATION OF  MultinomialNB() CountVectorizer() \n",
      "\n",
      "Accuracy: 0.9883066262451278\n",
      "Confusion Matrix:\n",
      "[[1926   11]\n",
      " [  16  356]]\n",
      "Classification Report:\n",
      "              precision    recall  f1-score   support\n",
      "\n",
      "         ham       0.99      0.99      0.99      1937\n",
      "        spam       0.97      0.96      0.96       372\n",
      "\n",
      "    accuracy                           0.99      2309\n",
      "   macro avg       0.98      0.98      0.98      2309\n",
      "weighted avg       0.99      0.99      0.99      2309\n",
      "\n",
      "\n",
      "################################################################\n",
      "\n",
      "EVALUATION OF  SVC() CountVectorizer() \n",
      "\n",
      "Accuracy: 0.9904720658293633\n",
      "Confusion Matrix:\n",
      "[[1937    0]\n",
      " [  22  350]]\n",
      "Classification Report:\n",
      "              precision    recall  f1-score   support\n",
      "\n",
      "         ham       0.99      1.00      0.99      1937\n",
      "        spam       1.00      0.94      0.97       372\n",
      "\n",
      "    accuracy                           0.99      2309\n",
      "   macro avg       0.99      0.97      0.98      2309\n",
      "weighted avg       0.99      0.99      0.99      2309\n",
      "\n",
      "\n",
      "################################################################\n",
      "\n",
      "EVALUATION OF  DecisionTreeClassifier() TfidfVectorizer() \n",
      "\n",
      "Accuracy: 0.9883066262451278\n",
      "Confusion Matrix:\n",
      "[[1924   13]\n",
      " [  14  358]]\n",
      "Classification Report:\n",
      "              precision    recall  f1-score   support\n",
      "\n",
      "         ham       0.99      0.99      0.99      1937\n",
      "        spam       0.96      0.96      0.96       372\n",
      "\n",
      "    accuracy                           0.99      2309\n",
      "   macro avg       0.98      0.98      0.98      2309\n",
      "weighted avg       0.99      0.99      0.99      2309\n",
      "\n",
      "\n",
      "################################################################\n",
      "\n",
      "EVALUATION OF  MultinomialNB() TfidfVectorizer() \n",
      "\n",
      "Accuracy: 0.978345604157644\n",
      "Confusion Matrix:\n",
      "[[1937    0]\n",
      " [  50  322]]\n",
      "Classification Report:\n",
      "              precision    recall  f1-score   support\n",
      "\n",
      "         ham       0.97      1.00      0.99      1937\n",
      "        spam       1.00      0.87      0.93       372\n",
      "\n",
      "    accuracy                           0.98      2309\n",
      "   macro avg       0.99      0.93      0.96      2309\n",
      "weighted avg       0.98      0.98      0.98      2309\n",
      "\n",
      "\n",
      "################################################################\n",
      "\n",
      "EVALUATION OF  SVC() TfidfVectorizer() \n",
      "\n",
      "Accuracy: 0.9917713295799048\n",
      "Confusion Matrix:\n",
      "[[1937    0]\n",
      " [  19  353]]\n",
      "Classification Report:\n",
      "              precision    recall  f1-score   support\n",
      "\n",
      "         ham       0.99      1.00      1.00      1937\n",
      "        spam       1.00      0.95      0.97       372\n",
      "\n",
      "    accuracy                           0.99      2309\n",
      "   macro avg       1.00      0.97      0.98      2309\n",
      "weighted avg       0.99      0.99      0.99      2309\n",
      "\n",
      "\n",
      "################################################################\n",
      "\n",
      "\n",
      "\n",
      "In summary, the highest performance is  SVC() TfidfVectorizer()  :  0.9917713295799048\n"
     ]
    }
   ],
   "source": [
    "#Training multiple classifier\n",
    "\n",
    "#Prepare to save the best performance\n",
    "highest_acc = 0\n",
    "highest_model = \"\"\n",
    "highest_ext = \"\"\n",
    "\n",
    "#training and testing begin.\n",
    "for vectorizer in vectorizers: #iterate each extractor\n",
    "    #vectorized the data\n",
    "    X_train_vectorized = vectorizer.fit_transform(X_train)\n",
    "    X_test_vectorized = vectorizer.transform(X_test)\n",
    "    \n",
    "    for model in classifiers: #iterate each machine learning\n",
    "        print(\"EVALUATION OF \", model, vectorizer,\"\\n\")\n",
    "        \n",
    "        #training\n",
    "        model.fit(X_train_vectorized, y_train)\n",
    "        \n",
    "        #testing\n",
    "        y_pred = model.predict(X_test_vectorized)\n",
    "        clf_report = classification_report(y_test, y_pred)\n",
    "        \n",
    "        #calculate performance\n",
    "        accuracy = accuracy_score(y_test, y_pred)\n",
    "        confusion = confusion_matrix(y_test, y_pred)\n",
    "        classification_rep = classification_report(y_test, y_pred)\n",
    "        \n",
    "        #show performance results\n",
    "        print(f'Accuracy: {accuracy}')\n",
    "        print(f'Confusion Matrix:\\n{confusion}')\n",
    "        print(f'Classification Report:\\n{classification_rep}')\n",
    "        \n",
    "        #saving the best performance.\n",
    "        if(accuracy >= highest_acc):\n",
    "            highest_acc = accuracy\n",
    "            highest_model = model\n",
    "            highest_ext = vectorizer\n",
    "        print(\"\\n################################################################\\n\")\n",
    "\n",
    "#print the best performance           \n",
    "print(\"\\n\\nIn summary, the highest performance is \",highest_model,highest_ext,\" : \",highest_acc)"
   ]
  },
  {
   "cell_type": "code",
   "execution_count": null,
   "id": "8735452f",
   "metadata": {},
   "outputs": [],
   "source": []
  },
  {
   "cell_type": "code",
   "execution_count": 7,
   "id": "e48b79d7",
   "metadata": {},
   "outputs": [
    {
     "data": {
      "text/plain": [
       "SVC()"
      ]
     },
     "execution_count": 7,
     "metadata": {},
     "output_type": "execute_result"
    }
   ],
   "source": [
    "#Testing\n",
    "\n",
    "SVC()"
   ]
  },
  {
   "cell_type": "code",
   "execution_count": null,
   "id": "b774c48c",
   "metadata": {},
   "outputs": [],
   "source": []
  },
  {
   "cell_type": "code",
   "execution_count": 8,
   "id": "b13c7a82",
   "metadata": {},
   "outputs": [
    {
     "name": "stdout",
     "output_type": "stream",
     "text": [
      "['ham' 'spam' 'spam']\n"
     ]
    }
   ],
   "source": [
    "#testing Ground\n",
    "#take best extractor\n",
    "best_vectorizer = TfidfVectorizer()\n",
    "X_train_vectorized = vectorizer.fit_transform(X_train)\n",
    "\n",
    "    \n",
    "#take best model\n",
    "best_model = SVC()\n",
    "best_model.fit(X_train_vectorized, y_train)\n",
    "\n",
    "#New Message\n",
    "new_text = [\"Congratulation You won A CAR, please call 02515354 to take your CAR\",\n",
    "            \"Records indicate you were involved in an accident in the last 2.5 years. As such you are entitled to claim compensation, Reply CLAIM for info or STOP to opt out\",\n",
    "           \"call now 08707509020 to claim your prize\"]\n",
    "\n",
    "#pre process the new text \n",
    "preprocessed_text = [s.lower() for s in new_text]\n",
    "preprocessed_text = [re.sub(r'[^a-zA-Z0-9\\s]', '', text).lower() for text in new_text]\n",
    "new_text_vectorized = vectorizer.transform(new_text)\n",
    "y_pred = best_model.predict(new_text_vectorized)\n",
    "print(y_pred)\n",
    "\n"
   ]
  },
  {
   "cell_type": "code",
   "execution_count": 9,
   "id": "018783b7",
   "metadata": {},
   "outputs": [
    {
     "name": "stdout",
     "output_type": "stream",
     "text": [
      "Model is saved successfully!\n",
      "Extractor is saved successfully!\n"
     ]
    }
   ],
   "source": [
    "#saving the model and the extractor\n",
    "#save the model\n",
    "model_filename = \"Smishing_Model.h5\"\n",
    "\n",
    "joblib.dump(best_model, model_filename)\n",
    "print(\"Model is saved successfully!\")\n",
    "\n",
    "#save the extractor\n",
    "tfid_matrix = best_vectorizer.fit_transform(X_train)\n",
    "\n",
    "extractor_filename = \"Smishing_Extractor.pickle\"\n",
    "\n",
    "with open(extractor_filename,\"wb\") as file:\n",
    "    pickle.dump(tfid_matrix, file)\n",
    "print(\"Extractor is saved successfully!\")"
   ]
  },
  {
   "cell_type": "code",
   "execution_count": null,
   "id": "18e96409",
   "metadata": {},
   "outputs": [],
   "source": []
  },
  {
   "cell_type": "code",
   "execution_count": null,
   "id": "36618dca",
   "metadata": {},
   "outputs": [],
   "source": []
  },
  {
   "cell_type": "code",
   "execution_count": null,
   "id": "5064f570",
   "metadata": {},
   "outputs": [],
   "source": []
  },
  {
   "cell_type": "code",
   "execution_count": null,
   "id": "24252704",
   "metadata": {},
   "outputs": [],
   "source": []
  },
  {
   "cell_type": "code",
   "execution_count": null,
   "id": "1fa7c571",
   "metadata": {},
   "outputs": [],
   "source": []
  },
  {
   "cell_type": "code",
   "execution_count": null,
   "id": "3c96951e",
   "metadata": {},
   "outputs": [],
   "source": []
  },
  {
   "cell_type": "code",
   "execution_count": null,
   "id": "10d3ae76",
   "metadata": {},
   "outputs": [],
   "source": []
  },
  {
   "cell_type": "code",
   "execution_count": null,
   "id": "977c99c7",
   "metadata": {},
   "outputs": [],
   "source": []
  }
 ],
 "metadata": {
  "kernelspec": {
   "display_name": "Python 3 (ipykernel)",
   "language": "python",
   "name": "python3"
  },
  "language_info": {
   "codemirror_mode": {
    "name": "ipython",
    "version": 3
   },
   "file_extension": ".py",
   "mimetype": "text/x-python",
   "name": "python",
   "nbconvert_exporter": "python",
   "pygments_lexer": "ipython3",
   "version": "3.8.8"
  }
 },
 "nbformat": 4,
 "nbformat_minor": 5
}
